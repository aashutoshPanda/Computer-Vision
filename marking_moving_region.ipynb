{
 "cells": [
  {
   "cell_type": "code",
   "execution_count": 1,
   "metadata": {},
   "outputs": [],
   "source": [
    "import cv2\n",
    "import numpy as np"
   ]
  },
  {
   "cell_type": "code",
   "execution_count": 2,
   "metadata": {},
   "outputs": [],
   "source": [
    "capture = cv2.VideoCapture(0)"
   ]
  },
  {
   "cell_type": "code",
   "execution_count": 3,
   "metadata": {},
   "outputs": [],
   "source": [
    "ret, prev_frame = capture.read()\n",
    "# previous frame to match\n",
    "prev_frame = cv2.cvtColor(prev_frame, cv2.COLOR_BGR2GRAY)    \n",
    "\n",
    "while True:\n",
    "    ret, curr_frame = capture.read()\n",
    "    curr_frame_rgb_copy = np.copy(curr_frame)\n",
    "    curr_frame = cv2.cvtColor(curr_frame, cv2.COLOR_BGR2GRAY)    \n",
    "    \n",
    "    # getting the difference to find motion\n",
    "    difference = cv2.absdiff(curr_frame,prev_frame)\n",
    "    #thresholding for finding contours\n",
    "    _,difference = cv2.threshold(difference,50,255,cv2.THRESH_BINARY)\n",
    "    #getting all the contours\n",
    "    contours,_ = cv2.findContours(difference, cv2.RETR_TREE, cv2.CHAIN_APPROX_SIMPLE)\n",
    "    \n",
    "    #with all the contours we will make the largest rectangle bounding these contours\n",
    "    #basically all the white portion of the \"difference\" should be inside it\n",
    "    height, width = difference.shape\n",
    "    min_x, min_y = width, height\n",
    "    max_x = max_y = 0\n",
    "    \n",
    "    for contour in contours:\n",
    "        (x,y,w,h) = cv2.boundingRect(contour)\n",
    "        #getting all the boudaries of the contours & finding the min & max for final rectangle\n",
    "        min_x, max_x = min(x, min_x), max(x+w, max_x)\n",
    "        min_y, max_y = min(y, min_y), max(y+h, max_y)\n",
    "    \n",
    "    #drawing the final rectangle\n",
    "    if max_x - min_x > 0 and max_y - min_y > 0:\n",
    "        cv2.rectangle(curr_frame_rgb_copy, (min_x, min_y), (max_x, max_y), (0, 255, 0), 2)\n",
    "        \n",
    "    cv2.imshow('Motion Detection', curr_frame_rgb_copy)\n",
    "    prev_frame = np.copy(curr_frame)\n",
    "    if cv2.waitKey(1) & 0xFF == ord('q'):\n",
    "        break\n",
    "        \n",
    "capture.release()\n",
    "cv2.destroyAllWindows()"
   ]
  }
 ],
 "metadata": {
  "kernelspec": {
   "display_name": "Python 3",
   "language": "python",
   "name": "python3"
  },
  "language_info": {
   "codemirror_mode": {
    "name": "ipython",
    "version": 3
   },
   "file_extension": ".py",
   "mimetype": "text/x-python",
   "name": "python",
   "nbconvert_exporter": "python",
   "pygments_lexer": "ipython3",
   "version": "3.8.5"
  }
 },
 "nbformat": 4,
 "nbformat_minor": 4
}