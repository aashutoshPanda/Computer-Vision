{
 "cells": [
  {
   "cell_type": "code",
   "execution_count": 1,
   "metadata": {},
   "outputs": [],
   "source": [
    "import cv2 as cv\n",
    "import numpy as np"
   ]
  },
  {
   "cell_type": "code",
   "execution_count": 2,
   "metadata": {},
   "outputs": [],
   "source": [
    "def capture_gray_scale():\n",
    "    global capture\n",
    "    _,frame = capture.read()\n",
    "    frame = cv.cvtColor(frame, cv.COLOR_BGR2GRAY)\n",
    "    return frame  \n",
    "    \n",
    "    "
   ]
  },
  {
   "cell_type": "code",
   "execution_count": 11,
   "metadata": {},
   "outputs": [],
   "source": [
    "def print_text(text,frame):\n",
    "    font = cv.FONT_HERSHEY_SIMPLEX\n",
    "    return cv.putText(frame, text=text, org = (50,250), fontFace = font,fontScale= 1, \n",
    "            color = (255,255,255), thickness = 3, lineType = cv.LINE_AA)\n"
   ]
  },
  {
   "cell_type": "code",
   "execution_count": 12,
   "metadata": {},
   "outputs": [],
   "source": [
    "capture = cv.VideoCapture(0)\n",
    "\n",
    "\n",
    "prev_frame = capture_gray_scale()\n",
    "while True:\n",
    "    current_frame = capture_gray_scale()\n",
    "    difference = cv.absdiff(current_frame, prev_frame)   \n",
    "    _,difference = cv.threshold(difference,127,255,cv.THRESH_BINARY)\n",
    "    result = np.any(difference)\n",
    "    if(result):\n",
    "        difference = print_text(\"MOTION DETECTED\",difference)\n",
    "    else:\n",
    "        difference = print_text(\"MOTION NOT DETECTED\",difference)\n",
    "        \n",
    "    cv.imshow('frame', difference)\n",
    "    \n",
    "    prev_frame = current_frame\n",
    "    if cv.waitKey(1) & 0xFF == ord('q'):\n",
    "        break\n",
    "        \n",
    "capture.release()\n",
    "cv.destroyAllWindows()"
   ]
  }
 ],
 "metadata": {
  "kernelspec": {
   "display_name": "Python 3",
   "language": "python",
   "name": "python3"
  },
  "language_info": {
   "codemirror_mode": {
    "name": "ipython",
    "version": 3
   },
   "file_extension": ".py",
   "mimetype": "text/x-python",
   "name": "python",
   "nbconvert_exporter": "python",
   "pygments_lexer": "ipython3",
   "version": "3.8.5"
  }
 },
 "nbformat": 4,
 "nbformat_minor": 4
}